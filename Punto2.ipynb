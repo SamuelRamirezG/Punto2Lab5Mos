{
 "cells": [
  {
   "cell_type": "markdown",
   "id": "6d8671fa",
   "metadata": {},
   "source": [
    "## Punto dos Laboratorio 5 MOS\n",
    "- Samuel Ramirez Gómez\n",
    "- Paulina Arrazzola"
   ]
  },
  {
   "cell_type": "markdown",
   "id": "34e932f2",
   "metadata": {},
   "source": [
    "# Conjuntos \n",
    "- Recursos\n",
    "- Zona Destino\n",
    "- Viajes\n",
    "- Avion\n"
   ]
  },
  {
   "cell_type": "markdown",
   "id": "346007e0",
   "metadata": {},
   "source": [
    "# Indices"
   ]
  },
  {
   "cell_type": "code",
   "execution_count": 20,
   "id": "fc24a983",
   "metadata": {},
   "outputs": [],
   "source": [
    "from pyomo.environ import *\n",
    "from pyomo.opt import SolverFactory\n",
    "import os\n",
    "numav = 4\n",
    "numrec = 5\n",
    "numzonas = 4\n",
    "numviajes = 2\n",
    "model = ConcreteModel()\n",
    "model.R = RangeSet(numrec)\n",
    "model.V = RangeSet(numviajes)\n",
    "model.Z = RangeSet(numzonas)\n",
    "model.A = RangeSet(numav)"
   ]
  },
  {
   "cell_type": "markdown",
   "id": "e5fd768e",
   "metadata": {},
   "source": [
    "# Parametros"
   ]
  },
  {
   "cell_type": "code",
   "execution_count": 21,
   "id": "36c4514d",
   "metadata": {},
   "outputs": [],
   "source": [
    "# Recursos\n",
    "Impacto = {1:50,2:100,3:120,4:60,5:40}\n",
    "Peso = {1:5,2:2,3:0.3,4:6,5:3}\n",
    "Volumen = {1:3,2:1,3:0.5,4:4,5:2}\n",
    "Disponibilidad = {1:12,2:15,3:40,4:15,5:20}\n",
    "model.I = Param(model.R,initialize=Impacto)\n",
    "model.P = Param(model.R,initialize=Peso)\n",
    "model.Vo = Param(model.R,initialize=Volumen)\n",
    "model.Di = Param(model.R,initialize=Disponibilidad)\n",
    "\n",
    "#Aviones \n",
    "capacidadp = {1:40,2:50,3:60,4:45}\n",
    "capacidadv = {1:35,2:40,3:45,4:38}\n",
    "costofijo = {1:15,2:20,3:25,4:18}\n",
    "costovar = {1:0.020,2:0.025,3:0.03,4:0.022}\n",
    "model.C = Param(model.A,initialize=capacidadp)\n",
    "model.Cv = Param(model.A,initialize=capacidadv)\n",
    "model.F = Param(model.A,initialize=costofijo)\n",
    "model.K = Param(model.A,initialize=costovar)\n",
    "\n",
    "#Zonas\n",
    "distancia = {1:800,2:1200,3:1500,4:900}\n",
    "multiplicador = {1:1.2,2:1.5,3:1.8,4:1.4}\n",
    "model.D = Param(model.Z,initialize=distancia)\n",
    "model.Mi = Param(model.Z,initialize=multiplicador)\n",
    "\n",
    "#Matriz necesidades\n",
    "necesidades = {(1,1):8,(1,2):6,(1,3):2,(1,4):0.6,(1,5):3,\n",
    "               (2,1):12,(2,2):9,(2,3):3,(2,4):0.9,(2,5):5,\n",
    "                (3,1):16,(3,2):12,(3,3):4,(3,4):1.2,(3,5):7,\n",
    "                 (4,1):10,(4,2):8,(4,3):2,(4,4):0.6,(4,5):4 }\n",
    "model.N = Param(model.Z,model.R,initialize=necesidades)\n",
    "\n"
   ]
  },
  {
   "cell_type": "markdown",
   "id": "6a76b215",
   "metadata": {},
   "source": [
    "# Variables de decisión"
   ]
  },
  {
   "cell_type": "code",
   "execution_count": 22,
   "id": "d7a431e2",
   "metadata": {},
   "outputs": [],
   "source": [
    "model.x = Var(model.R,model.A,model.Z,model.V, within=PositiveReals)\n",
    "model.y= Var(model.A,model.V,model.Z, within= Binary)\n",
    "model.u = Var(model.A,within=Binary)\n",
    "model.me = Var(model.A,model.Z,model.V,within=PositiveIntegers)\n"
   ]
  },
  {
   "cell_type": "markdown",
   "id": "ffeb3a61",
   "metadata": {},
   "source": [
    "# Funciones objetivo"
   ]
  },
  {
   "cell_type": "code",
   "execution_count": 23,
   "id": "097d63bb",
   "metadata": {},
   "outputs": [],
   "source": [
    "model.obj = Objective(expr= sum(model.x[r,a,d,v]*model.I[r]*model.Mi[d] for r in model.R for a in model.A for d in model.Z for v in model.V),sense=maximize)\n",
    "#model.obj = Objective(expr = sum(model.u[a]*model.F[a] for a in model.A) + sum(model.y[a,v,d]*model.D[a]*model.K[a] for a in model.A for v in model.V for d in model.Z),sense=minimize)"
   ]
  },
  {
   "cell_type": "markdown",
   "id": "39b2dcd8",
   "metadata": {},
   "source": [
    "# Restricciones"
   ]
  },
  {
   "cell_type": "code",
   "execution_count": 24,
   "id": "b07a5205",
   "metadata": {},
   "outputs": [],
   "source": [
    "model.restricciones = ConstraintList()\n",
    "for a in model.A:\n",
    "    for d in model.Z:\n",
    "        for v in model.V:\n",
    "           model.restricciones.add(sum(model.x[r,a,d,v]*model.P[r] for r in model.R) <= model.C[a])\n",
    "           model.restricciones.add(sum(model.x[r,a,d,v]*model.Vo[r] for r in model.R) <= model.Cv[a])\n",
    "\n",
    "\n",
    "for d in model.Z:\n",
    "    for r in model.R:\n",
    "        model.restricciones.add(sum(model.x[r,a,d,v]*model.P[r] for v in model.V for a in model.A) >= model.N[d,r])\n",
    "\n",
    "for r in model.R:\n",
    "    model.restricciones.add(sum(model.x[r,a,d,v]for a in model.A for d in model.D for v in model.V) <= model.Di[r])\n",
    "\n",
    "model.restricciones.add(sum(model.x[3,1,d,v] for d in model.Z for v in model.V) == 0)\n",
    "\n",
    "for a in model.A:\n",
    "    for v in model.V:\n",
    "        model.restricciones.add(model.x[3,a,d,v] + model.x[3,a,d,v] <= 1)\n",
    "        model.restricciones.add(sum(model.y[a,v,d] for d in model.Z) == 1)\n",
    "\n",
    "for a in model.A:\n",
    "    for v in model.V:\n",
    "        for d in model.Z:\n",
    "           model.restricciones.add(model.x[3,a,d,v,] == model.me[a,d,v])\n",
    "           for r in model.R:\n",
    "             model.restricciones.add(model.x[r,a,d,v] == model.y[a,v,d])\n",
    "\n",
    "\n",
    "\n",
    "\n",
    "\n",
    "\n"
   ]
  }
 ],
 "metadata": {
  "kernelspec": {
   "display_name": "pyomo_env",
   "language": "python",
   "name": "python3"
  },
  "language_info": {
   "codemirror_mode": {
    "name": "ipython",
    "version": 3
   },
   "file_extension": ".py",
   "mimetype": "text/x-python",
   "name": "python",
   "nbconvert_exporter": "python",
   "pygments_lexer": "ipython3",
   "version": "3.9.21"
  }
 },
 "nbformat": 4,
 "nbformat_minor": 5
}
